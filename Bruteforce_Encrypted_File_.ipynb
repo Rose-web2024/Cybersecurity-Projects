{
  "nbformat": 4,
  "nbformat_minor": 0,
  "metadata": {
    "colab": {
      "provenance": []
    },
    "kernelspec": {
      "name": "python3",
      "display_name": "Python 3"
    },
    "language_info": {
      "name": "python"
    }
  },
  "cells": [
    {
      "cell_type": "code",
      "execution_count": 2,
      "metadata": {
        "colab": {
          "base_uri": "https://localhost:8080/",
          "height": 73
        },
        "id": "NmRcn6TnnRgi",
        "outputId": "e1ee345d-87ee-49ee-fd97-b7c78af8a5aa"
      },
      "outputs": [
        {
          "output_type": "display_data",
          "data": {
            "text/plain": [
              "<IPython.core.display.HTML object>"
            ],
            "text/html": [
              "\n",
              "     <input type=\"file\" id=\"files-53d9f64c-722d-4331-8969-16ff7ebd3af7\" name=\"files[]\" multiple disabled\n",
              "        style=\"border:none\" />\n",
              "     <output id=\"result-53d9f64c-722d-4331-8969-16ff7ebd3af7\">\n",
              "      Upload widget is only available when the cell has been executed in the\n",
              "      current browser session. Please rerun this cell to enable.\n",
              "      </output>\n",
              "      <script>// Copyright 2017 Google LLC\n",
              "//\n",
              "// Licensed under the Apache License, Version 2.0 (the \"License\");\n",
              "// you may not use this file except in compliance with the License.\n",
              "// You may obtain a copy of the License at\n",
              "//\n",
              "//      http://www.apache.org/licenses/LICENSE-2.0\n",
              "//\n",
              "// Unless required by applicable law or agreed to in writing, software\n",
              "// distributed under the License is distributed on an \"AS IS\" BASIS,\n",
              "// WITHOUT WARRANTIES OR CONDITIONS OF ANY KIND, either express or implied.\n",
              "// See the License for the specific language governing permissions and\n",
              "// limitations under the License.\n",
              "\n",
              "/**\n",
              " * @fileoverview Helpers for google.colab Python module.\n",
              " */\n",
              "(function(scope) {\n",
              "function span(text, styleAttributes = {}) {\n",
              "  const element = document.createElement('span');\n",
              "  element.textContent = text;\n",
              "  for (const key of Object.keys(styleAttributes)) {\n",
              "    element.style[key] = styleAttributes[key];\n",
              "  }\n",
              "  return element;\n",
              "}\n",
              "\n",
              "// Max number of bytes which will be uploaded at a time.\n",
              "const MAX_PAYLOAD_SIZE = 100 * 1024;\n",
              "\n",
              "function _uploadFiles(inputId, outputId) {\n",
              "  const steps = uploadFilesStep(inputId, outputId);\n",
              "  const outputElement = document.getElementById(outputId);\n",
              "  // Cache steps on the outputElement to make it available for the next call\n",
              "  // to uploadFilesContinue from Python.\n",
              "  outputElement.steps = steps;\n",
              "\n",
              "  return _uploadFilesContinue(outputId);\n",
              "}\n",
              "\n",
              "// This is roughly an async generator (not supported in the browser yet),\n",
              "// where there are multiple asynchronous steps and the Python side is going\n",
              "// to poll for completion of each step.\n",
              "// This uses a Promise to block the python side on completion of each step,\n",
              "// then passes the result of the previous step as the input to the next step.\n",
              "function _uploadFilesContinue(outputId) {\n",
              "  const outputElement = document.getElementById(outputId);\n",
              "  const steps = outputElement.steps;\n",
              "\n",
              "  const next = steps.next(outputElement.lastPromiseValue);\n",
              "  return Promise.resolve(next.value.promise).then((value) => {\n",
              "    // Cache the last promise value to make it available to the next\n",
              "    // step of the generator.\n",
              "    outputElement.lastPromiseValue = value;\n",
              "    return next.value.response;\n",
              "  });\n",
              "}\n",
              "\n",
              "/**\n",
              " * Generator function which is called between each async step of the upload\n",
              " * process.\n",
              " * @param {string} inputId Element ID of the input file picker element.\n",
              " * @param {string} outputId Element ID of the output display.\n",
              " * @return {!Iterable<!Object>} Iterable of next steps.\n",
              " */\n",
              "function* uploadFilesStep(inputId, outputId) {\n",
              "  const inputElement = document.getElementById(inputId);\n",
              "  inputElement.disabled = false;\n",
              "\n",
              "  const outputElement = document.getElementById(outputId);\n",
              "  outputElement.innerHTML = '';\n",
              "\n",
              "  const pickedPromise = new Promise((resolve) => {\n",
              "    inputElement.addEventListener('change', (e) => {\n",
              "      resolve(e.target.files);\n",
              "    });\n",
              "  });\n",
              "\n",
              "  const cancel = document.createElement('button');\n",
              "  inputElement.parentElement.appendChild(cancel);\n",
              "  cancel.textContent = 'Cancel upload';\n",
              "  const cancelPromise = new Promise((resolve) => {\n",
              "    cancel.onclick = () => {\n",
              "      resolve(null);\n",
              "    };\n",
              "  });\n",
              "\n",
              "  // Wait for the user to pick the files.\n",
              "  const files = yield {\n",
              "    promise: Promise.race([pickedPromise, cancelPromise]),\n",
              "    response: {\n",
              "      action: 'starting',\n",
              "    }\n",
              "  };\n",
              "\n",
              "  cancel.remove();\n",
              "\n",
              "  // Disable the input element since further picks are not allowed.\n",
              "  inputElement.disabled = true;\n",
              "\n",
              "  if (!files) {\n",
              "    return {\n",
              "      response: {\n",
              "        action: 'complete',\n",
              "      }\n",
              "    };\n",
              "  }\n",
              "\n",
              "  for (const file of files) {\n",
              "    const li = document.createElement('li');\n",
              "    li.append(span(file.name, {fontWeight: 'bold'}));\n",
              "    li.append(span(\n",
              "        `(${file.type || 'n/a'}) - ${file.size} bytes, ` +\n",
              "        `last modified: ${\n",
              "            file.lastModifiedDate ? file.lastModifiedDate.toLocaleDateString() :\n",
              "                                    'n/a'} - `));\n",
              "    const percent = span('0% done');\n",
              "    li.appendChild(percent);\n",
              "\n",
              "    outputElement.appendChild(li);\n",
              "\n",
              "    const fileDataPromise = new Promise((resolve) => {\n",
              "      const reader = new FileReader();\n",
              "      reader.onload = (e) => {\n",
              "        resolve(e.target.result);\n",
              "      };\n",
              "      reader.readAsArrayBuffer(file);\n",
              "    });\n",
              "    // Wait for the data to be ready.\n",
              "    let fileData = yield {\n",
              "      promise: fileDataPromise,\n",
              "      response: {\n",
              "        action: 'continue',\n",
              "      }\n",
              "    };\n",
              "\n",
              "    // Use a chunked sending to avoid message size limits. See b/62115660.\n",
              "    let position = 0;\n",
              "    do {\n",
              "      const length = Math.min(fileData.byteLength - position, MAX_PAYLOAD_SIZE);\n",
              "      const chunk = new Uint8Array(fileData, position, length);\n",
              "      position += length;\n",
              "\n",
              "      const base64 = btoa(String.fromCharCode.apply(null, chunk));\n",
              "      yield {\n",
              "        response: {\n",
              "          action: 'append',\n",
              "          file: file.name,\n",
              "          data: base64,\n",
              "        },\n",
              "      };\n",
              "\n",
              "      let percentDone = fileData.byteLength === 0 ?\n",
              "          100 :\n",
              "          Math.round((position / fileData.byteLength) * 100);\n",
              "      percent.textContent = `${percentDone}% done`;\n",
              "\n",
              "    } while (position < fileData.byteLength);\n",
              "  }\n",
              "\n",
              "  // All done.\n",
              "  yield {\n",
              "    response: {\n",
              "      action: 'complete',\n",
              "    }\n",
              "  };\n",
              "}\n",
              "\n",
              "scope.google = scope.google || {};\n",
              "scope.google.colab = scope.google.colab || {};\n",
              "scope.google.colab._files = {\n",
              "  _uploadFiles,\n",
              "  _uploadFilesContinue,\n",
              "};\n",
              "})(self);\n",
              "</script> "
            ]
          },
          "metadata": {}
        },
        {
          "output_type": "stream",
          "name": "stdout",
          "text": [
            "Saving EncryptedFilePack.zip to EncryptedFilePack.zip\n"
          ]
        }
      ],
      "source": [
        "from google.colab import files\n",
        "upload = files.upload ()"
      ]
    },
    {
      "cell_type": "code",
      "source": [
        "import zipfile\n",
        "\n",
        "# Unzip the uploaded file\n",
        "zip_path = \"EncryptedFilePack.zip\"\n",
        "with zipfile.ZipFile(zip_path, 'r') as zip_ref:\n",
        "    zip_ref.extractall(\"decrypted_pack\")\n",
        "\n",
        "# List extracted files\n",
        "import os\n",
        "for root, dirs, files in os.walk(\"decrypted_pack\"):\n",
        "    for file in files:\n",
        "        print(os.path.join(root, file))\n"
      ],
      "metadata": {
        "colab": {
          "base_uri": "https://localhost:8080/"
        },
        "id": "EEib601SoCJ3",
        "outputId": "40855623-3932-4f9f-9eec-331fbb2ebd68"
      },
      "execution_count": 3,
      "outputs": [
        {
          "output_type": "stream",
          "name": "stdout",
          "text": [
            "decrypted_pack/enc.zip\n",
            "decrypted_pack/bruteforce.py\n",
            "decrypted_pack/rockyou.txt\n"
          ]
        }
      ]
    },
    {
      "cell_type": "code",
      "source": [
        "with open(\"decrypted_pack/bruteforce.py\", \"r\") as f:\n",
        "    print(f.read())\n"
      ],
      "metadata": {
        "colab": {
          "base_uri": "https://localhost:8080/"
        },
        "id": "L2HOkOCBoakS",
        "outputId": "d614de15-e279-45b5-8862-25991bfbf56d"
      },
      "execution_count": 4,
      "outputs": [
        {
          "output_type": "stream",
          "name": "stdout",
          "text": [
            "'''\n",
            "Forage AIG Cybersecurity Program\n",
            "Bruteforce starter template\n",
            "'''\n",
            "\n",
            "from zipfile import ZipFile\n",
            "\n",
            "# Use a method to attempt to extract the zip file with a given password\n",
            "# def attempt_extract(zf_handle, password):\n",
            "#     \n",
            "#\n",
            "#\n",
            "\n",
            "def main():\n",
            "    print(\"[+] Beginning bruteforce \")\n",
            "    with ZipFile('enc.zip') as zf:\n",
            "        with open('rockyou.txt', 'rb') as f:\n",
            "            # Write your logic here...\n",
            "            # Iterate through password entries in rockyou.txt\n",
            "\n",
            "            # Attempt to extract the zip file using each password\n",
            "\n",
            "            # Handle correct password extract versus incorrect password attempt)\n",
            "\n",
            "    #print(\"[+] Password not found in list\")\n",
            "\n",
            "if __name__ == \"__main__\":\n",
            "    main()\n"
          ]
        }
      ]
    },
    {
      "cell_type": "code",
      "source": [
        "with open(\"decrypted_pack/rockyou.txt\", \"r\") as f:\n",
        "    print(f.read())"
      ],
      "metadata": {
        "colab": {
          "base_uri": "https://localhost:8080/"
        },
        "id": "iGzB_LxOop7V",
        "outputId": "2dd84779-f73c-4b8a-fb52-03fcd47d7a96"
      },
      "execution_count": 6,
      "outputs": [
        {
          "output_type": "stream",
          "name": "stdout",
          "text": [
            "123456\n",
            "12345\n",
            "123456789\n",
            "password\n",
            "1234567\n",
            "rockyou\n",
            "12345678\n",
            "abc123\n",
            "nicole\n",
            "daniel\n",
            "monkey\n",
            "lovely\n",
            "jessica\n",
            "654321\n",
            "michael\n",
            "ashley\n",
            "qwerty\n",
            "111111\n",
            "iloveu\n",
            "000000\n",
            "michelle\n",
            "volleyball\n",
            "whatever\n",
            "dragon\n",
            "vanessa\n",
            "cookie\n",
            "naruto\n",
            "summer\n",
            "spongebob\n",
            "joseph\n",
            "junior\n",
            "softball\n",
            "taylor\n",
            "yellow\n",
            "daniela\n",
            "lauren\n",
            "mickey\n",
            "princesa\n",
            "alexandra\n",
            "alexis\n",
            "jesus\n",
            "estrella\n",
            "miguel\n",
            "william\n",
            "thomas\n",
            "angela\n",
            "poohbear\n",
            "patrick\n",
            "monica\n",
            "richard\n",
            "112233\n",
            "princess1\n",
            "555555\n",
            "diamond\n",
            "carolina\n",
            "steven\n",
            "rangers\n",
            "louise\n",
            "orange\n",
            "789456\n",
            "999999\n",
            "11111\n",
            "nathan\n",
            "heaven\n",
            "55555\n",
            "baseball\n",
            "martin\n",
            "greenday\n",
            "november\n",
            "alyssa\n",
            "madison\n",
            "123321\n",
            "123abc\n",
            "batman\n",
            "september\n",
            "december\n",
            "morgan\n",
            "mariposa\n",
            "maria\n",
            "gabriela\n",
            "SPONGEBOB\n",
            "sunshine\n",
            "chocolate\n",
            "password1\n",
            "soccer\n"
          ]
        }
      ]
    },
    {
      "cell_type": "code",
      "source": [
        "# This file is encrypted via ransomware attack.\n",
        "with open(\"decrypted_pack/enc.zip\", \"rb\") as f:\n",
        "    print(f.read())\n"
      ],
      "metadata": {
        "colab": {
          "base_uri": "https://localhost:8080/"
        },
        "id": "VWTWPkO6pL1y",
        "outputId": "6b65b466-4c5f-4792-ec48-e39ed6901e95"
      },
      "execution_count": 8,
      "outputs": [
        {
          "output_type": "stream",
          "name": "stdout",
          "text": [
            "b'PK\\x03\\x04\\x14\\x00\\t\\x00\\x08\\x00\\x11\\xbcVTdg\\x16\\x10 \\x10\\x00\\x00\\xbd\\x12\\x00\\x00\\x15\\x00\\x1c\\x00../ImportantFile.docxUT\\t\\x00\\x03\\xe2\\xd7\\x14b&\\xd8\\x14bux\\x0b\\x00\\x01\\x04\\xf5\\x01\\x00\\x00\\x04\\x14\\x00\\x00\\x00\\x17\\xa1\\xa9\\x84J\\xfc\\xa7{\\xcf\\x98\\xaa\\x9a{a\\x0c+\\x14\\x04\\x1a\\x85\\x0f5`d\\xbc\\xc1z<\\xa9\\x8d\\xd1\\x95\\xbc\\xfe\\x042\\xa6:o\\xa4\\xffu5[l6\\xbb\\xe7\\xa3\\x04[R\\xb2q\\x9f;\\xaf\\xce\\x02\\xf0\\xb9\\xcb7B\\xe1\\xe6\\xf0\\xd5\\xa2\\xf1\\x8eF\\x86\\xf5L@\\xea\\xc2\\x04\\x8d\\xd7\\xb1\\x19\\xb0\\x9d\\xfamw.\\xe7\\xf0\\xc3\\xff\\x1b[T\\xc2(\\xb3\\x995\\x82\\x1fgz\\xfa\\xe8\\x8c\\xa3\\x0e\\xaau\\x86\\xcc\\x82Ri.\\xfcu\\xb5\\xe6q\\x80\\x021\\xabbk\\x93\\x8d\\x9e\\x95\\xe4.\\xf4\\x01\\x1e.\\xbbZxh\\x11\\xeb\\x83\\x90\\xca\\x17\\xa2Z\\x8c\\xbd\\xa5`\\xf8&\\x95l\\x1aM\\xa3\\xf3\\x03/t>V\\x9a\\xf4\\x88\\xe6Pg\\x04\\xb4\\x0b\\xa5\\xf1\\xc5\\x98\\xcb\\xca\\xcaX\\xe8\\xb6\\x0e\\xfcj\\x89\\xe1h\\x80&KR86\\xbf\\x04\\x94\\t\\xb1\\xed4\\x99\\x07!\\xcc:\\xaa\\x10\\nm*\\xcb\\x0f\\x10\\x98\\x15D \\xe57\\n\\xacD]_\\x8c\\xd1M\\xfc\\x80\\xf5\\x9f\\xea7\\x15\\x90\\xb5X\\x92\\xbb\\x1bs0\\xa5\\xf2\\xe2\\x1e\\x1doX1\\xb3\\xe6D\\xc4!\\xc6\\x07!of\\xe3h\\xbe\\xb7L\\x12u\\xa7\\xf3\\xc4\\x03\\x8f\\x14?\\xce\\x0b\\x19\\'9\\xc1\\xf2`\\xa0\\xf2b\"\\x16m\\xcc\\xea\\xaa\\xc1\\xc6k\\xccM\\x8chq\\xa0c7?\\xbfP\\xdc\\xa0\\xe4\\x96\\x12\\xa7\\x8e\\xf3|\\xe2i\\xc2\\xac\\xee\\x86\\xb8.\\x8eT\\'f\\x13vY\\xc2X\\x9d\\xa9\\xceJ7\\xfa\\xccL\\xd3\\xa9\\xbacBW\\xe2\\xa1\\xff\\x1dY\\x1dF\\xfdm\\x1dG\\xe6\\xd6\\x94;Q\\xaeX\\xda}\\xf7\\x92\\x9dx>\\xb4\\r\\x03\\xc8\\xcc$z\\xfa\\xa5\\x1e\\x05\\xc1\\xd6\\xe1\\x96\\x01\\x02\\xb4\\xf7e\\x88X\\x8eEJ/EKh\\xaa-v\\x99\\x9d\\xf5>\\n\\x9af PbX\\xa3\\x14R\\xfc\\xb5\\x1eO\\x8b\\xaat\\xcf\\xc9\\xac\\xca\\x12\\x96\\xd8\\x8e9\\x13\\x93\\x0c\\xfe\\n\\xe8\\xffW\\x01&\\x8e\\xc0\\xfe\\xa2\\xc9\\xacW\\xcbBj\\x18g5\\xa3\\x1e\\x91\\x14+\\r\\x8f\\x18\\xd3\\xc4iJ\\xa1\\x90=\\xec\\x06\\xa6\\xa0\\xe8\\xe4\\xb8\\xedOJ1\\x05\\xbf\\xb1\\x0fo\\xc8O\\x9e\\x13\\x11\\xe7w\\xceA#\\xb6Y brO\\x87\\xf6\\xa5\\xbc6\\x94\\x977\\x9f\\xce\\xca\\x8d\\xd1\\xd5\\xa1=N226M!\\xe6\\xae\\x87\\xe2\\x82gO\\xee8\\x99T\\x95T\\x05\\xe1\\xb9\\x0b\\xcf\\x96W8\\t\\xbf\\x80\\xdb\\xf6`e\\x06\\x05%M\\xe6\\xea\\x03\\xc3(H\"\\xb0\\x86(eo\\xb7\\xa9\\xff6U2\\xbb#\\xc0\\x85\\\\\\xc9\\x83p\\xd6E\\x8f\\\\\\'\\xa0\\xec\\xde\\xaa\\xd8/5#\\xde\\x02T\\xc9l\\xe0& \\x93Gs\\n\\xd4lK\\x92\\xb3Y\\xa5\\xbeaq\\x83\\x95\\xe6Y0\\xecz25J\\x0ce\\xe9\\xfb\\xc7-\\x85o\\x87\\xb3\\xd5\\xe2^{i\\x81h\\xc4\\xe0\\xba\\xd0\\xe1\\x91\\xa9\\xe4\\x8b\\xcdMfjo\\x82wH\\xf1F\\xe6M\\xa9{b\\xe94\\xc5es\\xb6Lv\\x82\\xb5\\x02\\xf7aeyl\\x0b\\xe6rV\\xf1\\xbe\\xe6*!\\x8b\\xe6\\x810,\"\\xc7\\x8b\\xa5\\x97\\x0b\\xc1\\xb4E\\r\\xefQ\\xa7(\\xa5/g*X\\xae\\n1\\xd6\\x06\\x00\\xd4\"\\xf9G)\\xf1\\x01\\x16b\\xf34,\\xa0\\xfc\\'\\xf4\\'\\x16\\xf4\\xc5\\xf8\\x14q\\xc7:g\\xf3\\xc1\\xedl\\xd9LK\\x14\\x0e\\xfcQA\\xdf`\\x96\\x84\\xb7\\x11\\x8abP\\x8b\\xbb\\x1c\\x9cW\\n\\xe9\\xe9\\xe4D\\xb5\\x04X\\xfc\\xb5Z\\xb3\\xb0\\xb0\\xbf>\\x0b\\x07=\\x97\\xc1\\xe3\"Y\\x90\\xd2\\xbd\\xb5\\xf4\\xde\\xe8\\x89\\xa7\\xad\\x9d_0.\\xf8d\\xefeM\\x8a\\x8f+;O\\x9a\\x14s\\x97\\xc6\\xa4\\xd3\\x9d\\xf2]\\xab\\xa0a\\xe9\\x91\\x9b\\xfa\\x08(+\\x99\\x97\\x00q\\xfcq\\xf8\\x9aw\\r\\xa4D\\xc5\\x11eL\\xf8\\xcd\\xce\\x8cJ\\xb4\\xbe\\xf1\\xae55e\\x03}\\x87x\\x19\\x01\\x17\\x04\\xfb3\\x10oi]T\\xb54\\xbf\\x0eD\\xef\\xfe\\xb7\\xc1\\\\\\x11(\\xfb\\xb8\\xa2\\xe4<\\xb3Z\\x01B\\x1e\\xca\\xcf\\xfb\\x06\\xd8\\xa0x\\xcd\\xb0E.\\xec\\xca\\x8c\\xb6x\\xc3\\xd2v\\xabM\\xde\\xf1\\x8cM>U\\xb8L\\x98\\xd0\\xf0\\xba\\xb6W\\x9c~<v6\\xf6\\xb1M\\xf3^2\\xcc<\\xd3]\\xff\\x8a\\xd0&\\xc5\\xe7\\\\S\\n!\\xe0) \\x1d\\xea\\xb3\\xb4\\x91k\\xc1,\\xde\\x0e4aB8\\x14\\x9bu\\x84\\xe5\\x83\\x063\\xde\\xbf\\xc0(\\xc4\\xdd\\xb9/}@\\xd6\\\\1\\xec\\x83\\x0cg\\xb2\\x8c\\x058\\xcc\\xfc7\\xaa2\\r\\t\\xab\\xe0\\xd2\\xe6\\x92;\\xb2_\\xee\\xaf\\x85n[\\xf8\\xbd\\xe2\\x01\\x8dG\\xb9\\xf6.\\xd0\\x06\\xe4\\x17\\x91%\\xee\\xb2u3P\\xf5\\x86\\xfa\\x1a_}=+\\x9f\\xb5L\\x02\\x0fve\"]\\x8d\\x8ci\\xa2\\x98\\x07\"P7\\xbd#\\x13\\xd6\\xa6\\xb8Q>U5\\xe9\\xd1#\\xfe\\x19\\xfb\\xe5j\\xd6\\xecd\\x81\\xbc\\x19u\\xee\\x8c`;\\x81X\\x10j\\xcd?\\xbb\\t\\xedtl\\xe3Q\\r\\x9c\\x17\\x96\\xb4\\xcd\\x95g\\x93\\x10\\xcb\\xa7a\\x17\\xfc\\xc3\\xe4)\\x01\\xbf1^;\\x8a\\\\M\\x84\\xd9\\x99\\xe1\\xb3\\xec+g\\xcf\\xe4\\roiW\\rxB\\x19\\r\\xcfk\\xc6\\xf0\\xe6\\x13\\xe6Q5\\xb8AL\\xebN\\xfc\\xea$\\x83*7P\\xfd^\\x9b\\xa6\\'\\x96\\x92{M\\xdc\\x0b\\x1c0t\\xb4\\xc5\\xe1\\x0b]\\xd8\\x83\\xa7\\xcf\\x01=\\x185*\\x10_h3\\x81\\xe7\\xaer[P\\x8b\\x9c\\xa6\\xcfedu\\xba\\xe0\\x14n0WG\\xf2WYq\\xe4\\xc8\\xf8\\xddf\\x91\\x9d\\xa1Rr\\xe1\\xdc\\xf9\\x05\\x91\\x8a\\xa0\\xfb\\xea1\\xdb\\xe4\\x1f\\xd6fy\\xd3\\xb2\\x9d\\xa8\\x1f\\xcc\\xe9{Wu\\xa4=\\x8cvxM\\x8eP\\x06[\\xb9l\\x83\\xccX\\xcf\\xb1h\\xed\\xb4T5};\\'>\\x80\\x9c\\x9eo\\x9b\\xf8\\xc4p\\xbb\\xbc\\x85j\\x8c\\x04\\xcc+\\xd3\\x82\\x1e\\xc1\\x1dx\\xee\\x0e\\x83\\xd4u\\xffPm\\x11\\xf9\\x97\\x00\\xf4\\x9a\\xa9\\xa33\\x1cQ`\\xed\\xf8`}\\xfc\\x1f\\x91/w[\\xed\\xf9\\xe9l\\x11I\\x01\\xb6\\xefG\\x9aK,Y\\xd3+\\xb8Bg\\x19\\xf2J[\\xe7\\xa5X\\xfc\\x89y\\x1e\\xa8\\r0\\'\\xf8\\xf5X\\x03\\x93\\xc4\\xdb`n\\xad\\x89M\\x7fA\\x07\\xd8\\x14\\xa8\\x18)]\\x1b4G\\xf9\\x87\\xf4\\x1c\\xd0]\\xecGW\\'\\x99d\\x8dq\\xa5\\xdaMa\\x10\\xed\\xf9\\xa0\\xfa2\\x92\\xaf\\x87\\xec\\x14=K\\xa5\\r\\xdd\\xacB\\xc2\\xa03\\xb5|H\\x01k\\x92\\x08$\\xbbW\\x802\\x1a\\xe3\\x87n\\xe8\\xe6\\xf6\\xe8\\x9c\\xcbq\\xe5\\r\\x07\\xf1\\xacrB\\xf9)\\xf6\\xb6V\\x12rXa7\\x92A\\x83\\x05AA\\x96)H\\xf9\"\\x9e\\xb1\\xf74\\x97\\xc6\\xec\\xe3\\xf0\\xb6\\x82o\\xe6\\xcd\\xf4\\x85A\\xf8\\x80\\xe7\\x97\\x00\\xf2\\xdc,\\x1d\\x1c\\x93\\xe5\\x13}\\xbc;\\xb8\\x00\\xae\\xce?\\x15\\x94\\x96\\x0b\\xfel\\xf1\\x8d\\x9f\\xa7\\xe02\\xb5\\xce\\x8b\\x101X\\x1f\\x9a\\x97\\xd3{<qXf\\xf9\\x8e8\\xd4Fq\\xafZ\\xb6 \\xef\\x80\\xefbY\\xc2?\\x9e\\xb0\\xdc\\xa1\\xd5\\x91f\\x94Bg\\x03\\r\\xea\\xb1\\xd8\\xd1\\xd3\\xcd67\\xa2\"\\x90\\xac\\xd5;ly\\x198\\xd3V\\x9a\\xc3n\\xf6\\x1a)\\x96\\x95}\\xe0\\x82|4e\\x7fF5Xs\\xa2\\x16\\x7f\\xec\\x9f\\xbb-\\xe4\\xcb\\xb7\\x93\\x8e\\x1d\\xb8\\xc9\\xb9D\\xe7;\\x8a\\xcem\\x92\\xfb\\xa9n\\xad9R-\\xa0\\x15zU<Tp\\xba\\x03n`\\xe5\\xfd\\xa1\\x1f\\xb4\\x15F\\x85\\xe3\\x1dOz{\\xaah\\xbfg\\xd0>8D\\x9a\\x88\\xde\\xe2p\\x9a\\xf2\\xaf<X/7B\\xc3Y\\x0e\\x95X\\xd7\\xa3\\x13\\x0fy\\x02\\xea*\\x7f\\xdf\\x1d!$\\xfb0\\xb5:\\x03\\x12\\xc8>@I\\x08\\xfb\\x90\\x0e\\x7f#,7%s\\x1ei\\x0fJ\\xda\\xe2(\\x84\\x0c\\xa9\\rR\\x10#d\\x16%=r\\xdf\\x86\\xa5\\x956\\xf4\\xc80\\x84\\xcd\\x07\\xaa\\xf3\\x99=\\x06\\xed\\xc6\\xe1-\\xd1\\xabH/\\xff6\\xcb\\xc8\\x84\\xaaW!\\x8e\\xd9\\x90>\\xb5\\xf5/*\\x10\\x19\\xdax\\xcb\\x16\\xfe\\x87\\x1e2\\xa4$\\xf4\\xa8^\\xdf\\xc0>w\\xce\\x822\\x9e\\xc8_a\\xb7s\\xe9h\\xa6\\xb1{\\x10v\\xa8\\x8dc\\xa0?%\\\\\\xec\\xc6\\xc5\\xa2\\xdb;\\x18\\xefc9&rh\\xed\\xbb6jX\\xda\\xbfp\\xaf\\xe9\\x0c\\xf8\\x16v\\xde\\xf3\\x90H:h\\xd8\\xba\\x81\\x96H\\x18\\x11>.\\xee\\x12\\xf0\\x80e\\xef82\\xfc_g\\xa5\\xd3\\x9b\\x93\\xb0*\\xaa\\xbe\\xd4\\x81+\\xea\\xb1\\xc4x\\x92N\\x08j\\xbc\\x05\\xba|\\xb0\\x94\\x17\\x0c\\x16i\\x07\\x8d`h\\xfd\\xdd\\xea\\xabiGl\\xcb\\x1c\\x17\\x01dA\\xef\\xc1\\x15\\xa5\\xe6\\xca\\xf1\\x1a&8\\xe8\\xdf\\xd8\\xc22\\x95UU\\xf6\\x95\\x1e\\xf8R\\xa9\\xe2\\xa0\\xba\\x153\\xc3\\xbdt\\xf0g\\xbd\\xf6_Bf\\xdb\\xc9w:\\xb5=\\xd5\\x80\\xee\\xd6$\\x8be\\xb9\\xc0Hs\\x12\\xb5\\xc7\\x05\\x9c\\x05\\x1c\\xb9l\\xeb\\xc1\\xfd\\x0b\\x9eT\\xfd\\xde\\x98%}\\xbe\\x12s\\xd0\\xfcv\\xfe\\xd1\\xa0\\x7f\\x03M\\xe7\\xa0$(\\x82|\\xd3\\x03f:\\x0c\\x9a\\xce1\\x85\\xd8\\xbd\\xbb4\\x03\\x1102o\\x95\\\\-@d\\xdb\\xe65F1T\\x06\\xdf\\xe8\\xe1G\\xeai\\xf7\\xed!\\xc7\\xc7\\x1d\\xde6\\x1a\\xd0\\xf4k7\\xcd\"\\x9a>\\xfc\\x89Z\\x1f\\x9b\\xdd\\xfeK\\xe8\\xb8;\\xe4M\\xd1\\xd44\\xe8m\\xc9\\x15\\x83\\xeb\\x1d\\x8c\\x9f\\xe6u_s\\xed\\xca\\xe5\\tf^\\x0c|-\\x16\\x8d\\xa7f\\x86\\xad<\\xbd\\xc9\\xcd\\xdcLu\\xec\\xfcA\\x92\\x80\\x11\\xe2Q(\\xd4\\xff]dk\\x14\\xca\\xeab\\xd2\\xc7\\x04\\x80*\\xcb\\xc7z\\xb5\\x06)\\x81\\x99z M\\xa0\\x1a]\\xee\\xf6\\x0e\\xa1%\\xc9{#\\xbb+\\xdc\\xb8\\xea\\xf9\\x82}\\n\\xad\\x94by\\xc1!<\\x00;\\x0bw\\xe2&\\r\\xc8\\x85-\\xdb\\x1d\\xb8\\xa9\\x85\\xaf\\xac\\xd8\\x12\\xaf\\xbf?\\xf6bC\\xb3\\x86\\xaf\\x080\\xb7&@U\\xd9\\'\\xf7n\\xa4\\xbb8\\x85\\xf1\\xac\\x80\\xb63\\x065\\xa8\\xfdL\\x86\\xe8X\\x84\\xb6\\x85M\\xbf\\x94\\xb8\\x0fM~\\x87C\\xf9\\xd9\\xb9\\xe83\\xd4z\\x13\\xf1\\x02\\xc7Em\\xbe\\xde\\\\M\\x9f0o,\\xfd\\x81vc\\x91;z\\x12\\xef)@\\xed\\xaa\\xf7;y\\xe5c\\x05F\\xb0\\x83\\x97\\x85\\xef\\xf1N\\xd1\"\\x81\\x91#\\xfe\\xc0\\xfa\\xe6G\\xd2g5\\xfa\\xd4\\x8a\\x942\\x1d)\\x98w\\xa4\\xb6\\x80\\xc4`\\xe4\\x16>\\x06\\xdeZ\\xdf\\xef\\x12)E2\\xcdu\\xab.\\xc2\\xfa\\x05\\x8f5\\xbbh?\\x15\\x0e0\\xb3\\xda\\xb7\\xef\"\\xaffh\\x01\\x0c\\x14\\xee\\x98\\xbdN8\\x0e\\xd7e\\x19\\xca\\xd5lb\\xd56b*x\\xb8<\\x08\\xa05\\xab5\\xc1\\xc2dE\\xd9\\xcch\\xbd;o\\x81\\xd6\\x1b\\xc5\\xe8\\x8cf\\xeb8h~\\x83\\xcc0|\\x81\\xbb\\xf2\\xf0\\xdeC\\xc4\\x9d\\xa0[\\x07\\x1a$\\xf1L^j\\x1b_\\xa5mv\\x0c\\x87\\xf5\\xd3\\xc9\\xca\\xe6\\xb0\\xba\\x13\\xed!\\xb49\\xae\\xeaG=\\x9f\\xdd\\xe7\\xb77\\xd8\\x18\\x1eR6ds\\x85MCLS\\x9a\\x0e\\xaaa\\x84\\x7f\\x82<\\xeaO\\x10\\xa9ts\\xde\\xf5\\xe17\\xd0\\x0f\\x10\\xcd\\x8f\\x9e\\xd7U\\xfa)\\n\\x08\\xef\\xf6\\xfcr\\xf5\\xc7\\xb8\\xc6\\xf6y\\x12\\xf0\\xc5=\\xa8\\xef^\\x0b\\x15\\x1a\\x7f\\xbb\\x0f\\x95\\xa0(k\\x0e)>)N\\xc2Z\\xb1\\x8b\\xfa\\xe3P\\xe6\\xe9Q\\xaa\\xf1rM\\'\\xa8\\xd1\\xae\\xef%\\x84\\xf9I\\xb5*\\xad\\xfeW#\\xb2\\x86t\\x82\\x9d\\xca\\x97\\xbd&5&M,s!\\x04\\xa2\\x1baB\\x80v\\xe7\\xc7\\xb5\\x14J\\xab\\xf7\\xa2#\\xf7\\xa0\\xday\\x8afo}\\xcc\\xa6\\xb3\\x02\\xce\\x12\\xe3\\xb5+3L\\x1a[Jkf\\xd3\\xcb?\\xb1\\x96\\x0f\\xc1\\xcb\\xa9\\x85\\xc8_\\xa2\\xb5yJ-\\xd9bc\\xcc|\\x1cg\\xf0\\x886l\\xd2:\\x8d\\xf7\\xa5\\xc91\\x87\\xd6\\xf4\\xcarK\\xf0\\xaf\\xdb\\x94sLMh\\x9f\\xf4B\\xa6H\\xe7\\xa1I\\xec\\xc16>2\\xfc=\\xf5k\\x9a\\x9a\\xa1ztf+\\x80z\\xcd,\\xa0!k\\xb8bCG>\\x98\\x03\\x04\\x82\\xb4\\xee\\xd6\\xea\\xce\\xecS\\xe3\\t\\xa1\\xc0\\xee\\xf8\\x8a\\xb1\\x87\\xddv\\xa7\\xd8\\x0b\\xf6\\xba\\xc3\\x83\\xa9\\xd5\\xd6/*\\xd3\\x12\\xac\\xf1\\xd7oF\\x85\\xf6ED\\x06siR\\xc0l\\xa0c\\xf5h\\xfb?=\\xe6\\xdf\\xd9e\\xe6\\x9d\\x89C\\xc0L\\x1fw#\\x94\\x8c\\x92\\x8d\\x03;\\xeb\\xb8w\\x80\\xb8z<\\x13\\xc1\\x1e\\xc8\\x04[0t2F\\xc4\\xb5\\xfd\\x8c \\xfc\\x16`%\\xc8\\xdb\\xa4I\\x8f_\\xbe\\xd4r\\xcd\\x8f\\n\\xc7\\xaf\\xd4\\xa9|\\xba\\x0e\\xb7\\x0b\\xcb\\xa9~Y\\x1d\\xa3{\\x88T\\xd4\\x12\\xca\\xc6\\xf5\\x11\\xbb\\xd4`;\\xa3\\x0b\\xd0\\x00\\x7f\\xd1\\xe4\\xcca\\x8b!\\x04m\\x7fu\\x83o\\xfe\\xa2F\\xca\\xffih\\xb1\\xd1\\x83P|\\xd2\\xdc\\xc5\\xdf8]zt\\xaa\\xd9\\xe2MI\\x90\\x8c\\xd7\\x08u\\n\\xdc\\xb1al\\x99\\xfbV\\x10?\\x1f\\x06\\xa8\\xf6\\x00\\x1df+K\\xf93<\\x16\\xbd\\xaa\\x01X\\xb5\\x8c\\xba\\x0bc\\xe7p\\x8f7\\x1fy\\xa6\\x1clp\\x1dDFPt\\x8e\\xe2+snJ\\xf4(\\xa5a%\\x13P\\xa3Ui$ct\\xeaj\\x06p\\xe4\\xcf\\xe4N\\x16a\\x15%\\x86\\x01%\\x9a\\x04|:\\x89z\\x98Z\\xa5%\\xa920>\\x94\"Pqp;x\\xa5\\'\\x8ew\\xb5\\x1cx\\xa3\\x16\\x9b+\\xfa\\xa3\\x1c\\xe1\\xd6\\xcb\\x02Hf\\xa0\\x15_\\xcf\\xd18\\xa81\\x83N);s8@\\x1e\\xc1s*\\x89\\x87Z*\\xcb\\x86\\x85l\\xf7\\xc9\\xb5h\\xe1b\\x86%\\x9c\\x8d\\xf2:v\\xfb\\xf3\\xc5\\x90\\x17V9\\x1d\\xd1\\x90\\xa3\\xba!\\x1b|5\\xcf\\xf2\\x1cU\\xc1\\xa7\\xae\\'\\xb0\\xfczbL\\xdf\\xac\\xa9\\x17\\x93\\xfasn\\xeb\\xb2\\x10%\\xe9\\xaf\\xc9\\xab\\xe1X\\xb1\\xe9~\\xb51@\\x9d\\xb7\\x9arH\\x9d\\xd72\\xce\\xdc\\xd96y\\xeb\\xcd\\xdd\\xd1\\xbd\\xf0\\xfa\\xba\\xe4x\\xad(`D\\x92\\xb5\\xadu[\\x966\\xd1\\xe4\\xa5<\\xf3H\\x7fK\\xe2\\x8f\\xbcG\\xd9\\x9e\\xf6\\xbaW;V\\x1fF\\x80\\xfe\\x9a\\xc3\\xff\\x1c\\x0b\\x11\\x11\\xb9\\xd3\\xfc1\\xe3\\xe5\\xbc\\xa7\\xcdH\\x84r^p\\xf6O4\\x0e\\x19M\\xcbW\\x97zs\\xab\\xa5(\\xc5\\xce\\xbe\\x98\\x8d\\xa7\\xef\\x14\\x1c\\xec\\x11\\xbd\\x04}\\x19\\xff\\xce\\xa4)\\x8a\\xf0\\xb3R\\xd6\\xaf+\\xdb\\xa6\\xe4x}\\xf0r\\xca%\\x1aH\\xd1\\xfbD\\xbb\\xcc\\x1af\\xe9\\x85\\xee|\\xa6\\xe3\\x03\\xce\\x82Rj\\x8bpu\\xc5\\x81\\xab\\xd5\\xe4\\xb9\\xb4F\\xfa\\xcd.\\xa6\\x8a\\x12g\\x1a\\xcc\\xa9f\\x05\\xe5\\xfa\\xd2\\xbc\\x99vM\\xf7+\\xb4\\x01\\x1bQ.\\xdfRX\\xee\\xb6\\xc3$\\x9c\\xb5\\xd2\\xe0\\x1e\\x9d:K\\nP\\x90\\x95_\\xccP\\x06\\xc9x6\\xa0~G\\x0f\\x86\\r\\x89\\xb7\\xbb\\xa6\\x86\\x85\\xa1\\xa1\\x18)\\x17},|\\xce\\x9a\\x11\\x91O\\xdd[P[\\xf5)q\\xea\\x87\\xdb\\xf7\\xcf\\x80\\xa8\\x00\\xdf\\xc5t\\x1d \"\\x0b\\xb1\\x9d^\\xd6\\x9bWj\\x0f\\x82\\xca&\\xb3\\r\\xd8\\xd6\\x97E\\xb7\\x1d%\\xbf\\x83\\x80\\xb2\\xbf\\x18d8:\"+\\xe9\\xf9\\x14\\xfb\\xe0\\x174#\\xc5\\x7fG\\rI\\x7f\\xc8\\xf9\\x06o-\\xac\\xfeH\\xf9\\x96`\\xecc]\\x8db\\xe3\\x06\\xdb\\xbb\\xcf\\xf0e\\x1f\\x92f(\\xf9\\x86\\x0e\\xf58W]\\xdfU\\xecRn\\xed_`:\\x9f\\xb1L\\xd1h<\\xad\\x929\\x85\\x04\\xb6]\\xbb\\xc1\\xb2\\x1e\\xa6\\xdcC\\xeb\\xbf\\x98+\\x92\\xd7S\\xa5\\x81E0l\\xc2\\x84.n\\xb2\\xde\\x00\\xb92+\\xfb\\xdeD\\xcd\\x8c\\xd4\\xad\\x97Rm\\xa9\\xbb\\xb0\\xb0@\\xce<\\x05aMq\\xee\\xa6M\\xd4\\xdf\\x97\\xe9\\xb4t\\x97\\x8c]\\xe1|zU\\xc3\\x04R\\xc9\\x1a\\x82du\\x15\\x02\\xefE\\xe0\\x8c\\xa5\\x9b\\xd3;vX\\x13\\x18f\\xc8\\xc1\\x1d\\x8d,\\xb2:\\x8c\\xdf`\\xd1\\xb2y\\x8ct\\xb1\\x00!\\xa9\\x99\\xb1\\xbc\\x04\\x00\\x9b\\xbc{[\\xe2c\\x16c\\x90\\x1de\\xf4\\x84Ga\\'\\xf5\\xf2(\\\\^\\xebh\\xda\\x80\\x07\\n\\xc6d\\x15>m\\x94B\\xee\\xa3\\x14\\xa1[\\xfb\\x8b\\xcce\\xd5%:E\\xd7\\xb7\\x11\\x97\\x0fn\\x83t\\xf7\\xb6\\x04\\xb5\\x95\\xb2\\xd2\\x98\\xbc\\xdbm\\xe2\\x14\\xdd\\x05\\xfc\\xbb\\x19\\xe1\\x14\\xfb\\x85\\xf3U\\xb3#19\\x9f(\\xd3\\xf5\\xef`\\xb8\\xd8^`?\\xfe\\xb0\\xfe\\x87\\xa3\\xd8#\\xba\\xa1\\xf0\\xe8\\xe8\\x8e\\x80\\xae\\xa5L\\xa1G\\x0b\\xa5\\xa9\\xe1\\xd9}zb\\xc0\\x8c\\xde\\x00\\xd6X7go\\x91%\\x88\\xee\\xfc\\x06\\xe3\\xdc\\x86\\x7f\\x98\\xebB5\\xa6(\\x9d\\xfa\\xddD\\x11\\x0e\\xe9\\x1e;/\\x024\\xdc\\xa3BW\\x89\\xd69\\x06\\xe7/\\xf2\\x9d7`\\xbe\\xf0\\x9c\\x86\\xd2\\xf0\\xb4\\xbbwP\\x9c\\x92\\xfc\\xf4mw\\x91\\xb3\\xfd]s\\x0b\\xa5\\xb9\\xab\\x82\\xee0\\xa0\\x94\\x17@\\x1fq\\x1f\\xb8\\xcdv\\x9b\\t\\xdd\\x19Nk\\xce\\xefr\\xcb\\xca\\xc0_\\x16Um\\xa9\"+]\\xffq\\xda}X\\x9fC\\x15\\xafG\\xde\\xe7D\\x0b0E\\xa6\\xe6\\'\\x8a\\x9aM\\x01\\x8d\\xf3\\x8a\\x9a$\\xafN\\xebnF\\x0b]\\xd9$\\x99\\x03\\xa3\\xcd\\xe6z\\x02\\x03\\xdcd\\xa9\\nT*\\xaa\\xbb\\x1d\\x87Z\\xb5\\x87\\xbbF\\xc3}\\xd1\\x8f{\\x18W\\x86\\xc8\\xdc\\x13\\xda\\xdf\\x13\\xb5\\xeb\\x07\\xc1_Q\\xe5\\xb6\\x0c\\x8d=\\xa9\\tkU\\xfa}`\\x0b#\\x88L\\xac\\x12/\\xd8W=\\x06Y\\x89\\x13\\x16\\xb8\\xa1\\xa4\\xe7\\xaf{.\\x92\\n\\x11w\\xc4\\xe8\\x0b8\\xe82\\xb1\\x83Zg f\\x80!\\xba\\x8e\\xff\\x80s\\x92\\rU{\\xeb,u\\xab\\xd2\\xa8;\\x9e\\x1d4\\xfb\\x80T\\xdfw^U\\x9ct8\\xa1\\xa7yM)lAe<8\\xb2\\xe0\\xcev\\xf2\\xbf\\xe0{BP\\xce\\xeb7\\xf9g\\x9e*\\xc0Q\\xcf\\x0e\\xe3\\xc2T\\x91\\xc2M\\x0b\\x97\\xb2\\x81\\x9b\\xa9\\xb7|\\xe6\\xed\\xd2\\x9f\\xba\\x88\\xf0\\x82\\x9e\\xb1\\x13\\xf2E!\\xb9\\xc9\\xf8\\xa4\\xb3\\x19\\x16f\\xc0\\xe4\\xf9\\xac\\xfd\\xb0$\\x19\\x1a\\xf5\\xa0bW\\xe7\\xb3\\x13\\xabY\\xeaG\\xd7I!\\xe2+OF\\xab~\\x00\\x0b\\xe8\\x17#&H\\xc7\\x85o\\x89E\\xd6+\\xcb\\x0cV\\xec\\xc5\\\\2~\\xa1\\x08\\xbf\\x13\\xb5\\xfc\\x08LPK\\x07\\x08dg\\x16\\x10 \\x10\\x00\\x00\\xbd\\x12\\x00\\x00PK\\x01\\x02\\x1e\\x03\\x14\\x00\\t\\x00\\x08\\x00\\x11\\xbcVTdg\\x16\\x10 \\x10\\x00\\x00\\xbd\\x12\\x00\\x00\\x15\\x00\\x18\\x00\\x00\\x00\\x00\\x00\\x00\\x00\\x00\\x00\\xa4\\x81\\x00\\x00\\x00\\x00../ImportantFile.docxUT\\x05\\x00\\x03\\xe2\\xd7\\x14bux\\x0b\\x00\\x01\\x04\\xf5\\x01\\x00\\x00\\x04\\x14\\x00\\x00\\x00PK\\x05\\x06\\x00\\x00\\x00\\x00\\x01\\x00\\x01\\x00[\\x00\\x00\\x00\\x7f\\x10\\x00\\x00\\x00\\x00'\n"
          ]
        }
      ]
    },
    {
      "cell_type": "code",
      "source": [
        "from zipfile import ZipFile\n",
        "import sys\n",
        "\n",
        "def attempt_extract(zf_handle, password):\n",
        "    try:\n",
        "        # Try extracting with the given password\n",
        "        zf_handle.extractall(pwd=password)\n",
        "        print(f\"[+] Password found: {password.decode('utf-8')}\")\n",
        "        return True\n",
        "    except:\n",
        "        return False\n",
        "\n",
        "def main():\n",
        "    print(\"[+] Beginning brute-force...\")\n",
        "\n",
        "    with ZipFile('decrypted_pack/enc.zip') as zf:\n",
        "        with open('decrypted_pack/rockyou.txt', 'rb') as f:\n",
        "            for line in f:\n",
        "                password = line.strip()\n",
        "\n",
        "                if attempt_extract(zf, password):\n",
        "                    # Save the correct password\n",
        "                    with open(\"found_password.txt\", \"w\") as pwfile:\n",
        "                        pwfile.write(password.decode('utf-8'))\n",
        "                    break\n",
        "            else:\n",
        "                print(\"[-] Password not found in list.\")\n",
        "\n",
        "if __name__ == \"__main__\":\n",
        "    main()"
      ],
      "metadata": {
        "colab": {
          "base_uri": "https://localhost:8080/"
        },
        "id": "CK--Iw7Vr4L9",
        "outputId": "6612963e-8e77-4b7e-b478-1fb298caf7b4"
      },
      "execution_count": 14,
      "outputs": [
        {
          "output_type": "stream",
          "name": "stdout",
          "text": [
            "[+] Beginning brute-force...\n",
            "[+] Password found: SPONGEBOB\n"
          ]
        }
      ]
    },
    {
      "cell_type": "code",
      "source": [
        "import os\n",
        "\n",
        "# List all files extracted from the ZIP\n",
        "for root, dirs, files in os.walk(\".\"):\n",
        "    for file in files:\n",
        "        print(os.path.join(root, file))\n"
      ],
      "metadata": {
        "colab": {
          "base_uri": "https://localhost:8080/"
        },
        "id": "krf1LRX-si7L",
        "outputId": "fe2ef3bd-51cd-43c4-c5ad-5f6d59f7ebe4"
      },
      "execution_count": 15,
      "outputs": [
        {
          "output_type": "stream",
          "name": "stdout",
          "text": [
            "./found_password.txt\n",
            "./ImportantFile.docx\n",
            "./EncryptedFilePack.zip\n",
            "./.config/gce\n",
            "./.config/.last_survey_prompt.yaml\n",
            "./.config/default_configs.db\n",
            "./.config/.last_opt_in_prompt.yaml\n",
            "./.config/hidden_gcloud_config_universe_descriptor_data_cache_configs.db\n",
            "./.config/active_config\n",
            "./.config/config_sentinel\n",
            "./.config/.last_update_check.json\n",
            "./.config/logs/2025.07.16/13.47.19.800388.log\n",
            "./.config/logs/2025.07.16/13.47.48.882615.log\n",
            "./.config/logs/2025.07.16/13.47.31.634017.log\n",
            "./.config/logs/2025.07.16/13.47.49.863054.log\n",
            "./.config/logs/2025.07.16/13.47.36.852800.log\n",
            "./.config/logs/2025.07.16/13.46.49.213464.log\n",
            "./.config/configurations/config_default\n",
            "./decrypted_pack/enc.zip\n",
            "./decrypted_pack/bruteforce.py\n",
            "./decrypted_pack/rockyou.txt\n",
            "./sample_data/README.md\n",
            "./sample_data/anscombe.json\n",
            "./sample_data/mnist_train_small.csv\n",
            "./sample_data/california_housing_train.csv\n",
            "./sample_data/mnist_test.csv\n",
            "./sample_data/california_housing_test.csv\n"
          ]
        }
      ]
    }
  ]
}